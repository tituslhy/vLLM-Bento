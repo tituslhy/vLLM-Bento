{
 "cells": [
  {
   "cell_type": "code",
   "execution_count": null,
   "id": "d8f55260",
   "metadata": {},
   "outputs": [],
   "source": [
    "import os\n",
    "from google.colab import userdata\n",
    "\n",
    "ngrok_auth_token = userdata.get('NGROK_AUTH_TOKEN')"
   ]
  },
  {
   "cell_type": "code",
   "execution_count": null,
   "id": "d10e3abe",
   "metadata": {},
   "outputs": [],
   "source": [
    "!ngrok config add-authtoken {ngrok_auth_token}"
   ]
  },
  {
   "cell_type": "code",
   "execution_count": null,
   "id": "8df7331c",
   "metadata": {},
   "outputs": [],
   "source": [
    "from pyngrok import ngrok\n",
    "from IPython.display import display, Markdown\n",
    "\n",
    "port = 3000\n",
    "# Open a ngrok tunnel to the HTTP server\n",
    "public_url = ngrok.connect(port).public_url\n",
    "display(Markdown((f\" * ngrok tunnel \\\"{public_url}\\\" -> \\\"http://127.0.0.1:{port}\\\"\")))"
   ]
  }
 ],
 "metadata": {
  "language_info": {
   "name": "python"
  }
 },
 "nbformat": 4,
 "nbformat_minor": 5
}
